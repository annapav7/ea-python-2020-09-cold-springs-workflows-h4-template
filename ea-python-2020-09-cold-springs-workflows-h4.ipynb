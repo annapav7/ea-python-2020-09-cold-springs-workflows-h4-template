{
 "cells": [
  {
   "cell_type": "markdown",
   "metadata": {},
   "source": [
    "<img style=\"float: left;\" src=\"earth-lab-logo-rgb.png\" width=\"150\" height=\"150\" />\n",
    "\n",
    "# Homework Template: Earth Analytics Python Course: Spring 2020"
   ]
  },
  {
   "cell_type": "markdown",
   "metadata": {},
   "source": [
    "Before submitting this assignment, be sure to restart the kernel and run all cells. To do this, pull down the Kernel drop down at the top of this notebook. Then select **restart and run all**.\n",
    "\n",
    "Make sure you fill in any place that says `YOUR CODE HERE` or \"YOUR ANSWER HERE\", as well as your name and collaborators below.\n",
    "\n",
    "* IMPORTANT: Before you submit your notebook, restart the kernel and run all! Your first cell in the notebook should be `[1]` and all cells should run in order! You will lose points if your notebook does not run. \n",
    "\n",
    "For all plots and code in general:\n",
    "\n",
    "* Add appropriate titles to your plot that clearly and concisely describe what the plot shows (e.g. time, location, phenomenon).\n",
    "* Be sure to use the correct bands for each plot.\n",
    "* Specify the source of the data for each plot using a plot caption created with `ax.text()`.\n",
    "* Place ONLY the code needed to create a plot in the plot cells. Place additional processing code ABOVE that cell (in a separate code cell).\n",
    "\n",
    "Make sure that you:\n",
    "\n",
    "* **Only include the package imports, code, data, and outputs that are CRUCIAL to your homework assignment.**\n",
    "* Follow PEP 8 standards. Use the `pep8` tool in Jupyter Notebook to ensure proper formatting (however, note that it does not catch everything!).\n",
    "* Keep comments concise and strategic. Don't comment every line!\n",
    "* Organize your code in a way that makes it easy to follow. \n",
    "* Write your code so that it can be run on any operating system. This means that:\n",
    "   1. the data should be downloaded in the notebook to ensure it's reproducible.\n",
    "   2. all paths should be created dynamically using the os package to ensure that they work across operating systems. \n",
    "* Check for spelling errors in your text and code comments\n"
   ]
  },
  {
   "cell_type": "code",
   "execution_count": null,
   "metadata": {},
   "outputs": [],
   "source": [
    "NAME = \"\"\n",
    "COLLABORATORS = \"\""
   ]
  },
  {
   "cell_type": "markdown",
   "metadata": {},
   "source": [
    "![Colored Bar](colored-bar.png)"
   ]
  },
  {
   "cell_type": "markdown",
   "metadata": {
    "deletable": false,
    "editable": false,
    "nbgrader": {
     "cell_type": "markdown",
     "checksum": "b728e5972cce00ab09a3a74147c00643",
     "grade": false,
     "grade_id": "cell-491e59aec56791ef",
     "locked": true,
     "schema_version": 3,
     "solution": false,
     "task": false
    }
   },
   "source": [
    "# Week 09 Homework - Multispectral Remote Sensing II\n",
    "\n",
    "\n",
    "## Include the Plots, Text and Outputs Below\n",
    "\n",
    "For all plots:\n",
    "\n",
    "* Add appropriate titles to your plot that clearly and concisely describe what the plot shows.\n",
    "* Be sure to use the correct bands for each plot.\n",
    "* Specify the source of the data used for each plot in a plot caption using `ax.text()`.\n",
    "\n",
    "\n",
    "## Project Introduction (10 points)\n",
    "\n",
    "Read the overview of the cold springs fire: https://www.earthdatascience.org/courses/use-data-open-source-python/data-stories/cold-springs-wildfire/\n",
    "\n",
    "In the Markdown cell below, add a 2-4 sentence description of the Cold Springs Fire. This should \n",
    "include the event:\n",
    "1. name, \n",
    "2. type, \n",
    "3. duration / dates and \n",
    "4. location. "
   ]
  },
  {
   "cell_type": "markdown",
   "metadata": {
    "deletable": false,
    "nbgrader": {
     "cell_type": "markdown",
     "checksum": "cadd056287f70cb4613b7e3ed3e3dfe4",
     "grade": true,
     "grade_id": "cell-a6c72b4cbb716c7c",
     "locked": false,
     "points": 10,
     "schema_version": 3,
     "solution": true,
     "task": false
    }
   },
   "source": [
    "YOUR ANSWER HERE"
   ]
  },
  {
   "cell_type": "markdown",
   "metadata": {
    "deletable": false,
    "editable": false,
    "nbgrader": {
     "cell_type": "markdown",
     "checksum": "5ab3b2a54c0bc89a2cf28858f16d8dfc",
     "grade": false,
     "grade_id": "cell-fdb313a690f2d6d0pf",
     "locked": true,
     "schema_version": 3,
     "solution": false,
     "task": false
    }
   },
   "source": [
    "![Colored Bar](colored-bar.png)"
   ]
  },
  {
   "cell_type": "code",
   "execution_count": null,
   "metadata": {
    "deletable": false,
    "editable": false,
    "nbgrader": {
     "cell_type": "code",
     "checksum": "44805d4679f7f9087f7a41218cfce618",
     "grade": false,
     "grade_id": "cell-7382539d71e6467c",
     "locked": true,
     "schema_version": 3,
     "solution": false,
     "task": false
    }
   },
   "outputs": [],
   "source": [
    "# Autograding imports - do not modify this cell\n",
    "import matplotcheck.notebook as nb\n",
    "import matplotcheck.autograde as ag\n",
    "import matplotcheck.raster as rs"
   ]
  },
  {
   "cell_type": "code",
   "execution_count": null,
   "metadata": {
    "deletable": false,
    "hideCode": false,
    "hidePrompt": false,
    "nbgrader": {
     "cell_type": "code",
     "checksum": "b838daca18b7d307b75c2873bab373f0",
     "grade": true,
     "grade_id": "cell-cade46b91b256c60",
     "locked": false,
     "points": 5,
     "schema_version": 3,
     "solution": true,
     "task": false
    },
    "tags": [
     "hide"
    ]
   },
   "outputs": [],
   "source": [
    "# Import libraries (5 points) only include imports required to run this notebook\n",
    " \n",
    "# YOUR CODE HERE\n",
    "raise NotImplementedError()"
   ]
  },
  {
   "cell_type": "markdown",
   "metadata": {
    "deletable": false,
    "editable": false,
    "nbgrader": {
     "cell_type": "markdown",
     "checksum": "126e0d089a0d25e6891706bcccf46c1b",
     "grade": false,
     "grade_id": "cell-4a33a76e9ed2389f",
     "locked": true,
     "schema_version": 3,
     "solution": false,
     "task": false
    }
   },
   "source": [
    "\n",
    "# Define Functions To Process Landsat Data \n",
    "\n",
    "For next week (March 18) create the 3 functions below used to process landsat data.\n",
    "For all functions:\n",
    "\n",
    "Add a doc string that uses numpy style format. The docstring should include:\n",
    "\n",
    "    * A one sentence description of what the function does\n",
    "    * Description of each input variable following numpy docstring standards\n",
    "    * Description of each output object\n"
   ]
  },
  {
   "cell_type": "markdown",
   "metadata": {
    "deletable": false,
    "editable": false,
    "nbgrader": {
     "cell_type": "markdown",
     "checksum": "c5d33d3b605384d330246fe0e7864fc2",
     "grade": false,
     "grade_id": "cell-ea4a216eedd73ff6",
     "locked": true,
     "schema_version": 3,
     "solution": false,
     "task": false
    }
   },
   "source": [
    "## Function 1: crop_stack_data function\n",
    "\n",
    "Write a function called `crop_stack_data` that: \n",
    "1. Takes a **list** of raster TIF files(files_to_crop) and crops all of the files in the list to a given input boundary in GeoPandas GeoDataFrame format.\n",
    "    * **3 inputs:** 1) list of files, 2) directory to export cropped files, 3) GeoPandas GeoDataFrame to crop the data\n",
    "2. Returns a stacked **numpy array** of the cropped data and the metadata.\n",
    "    * **2 outputs:** 1) **numpy array** and 2) **dictionary** containing metadata "
   ]
  },
  {
   "cell_type": "code",
   "execution_count": null,
   "metadata": {
    "deletable": false,
    "nbgrader": {
     "cell_type": "code",
     "checksum": "347e2e77c454abad14679e90b4a53e71",
     "grade": false,
     "grade_id": "cell-ce1d604c026e2611",
     "locked": false,
     "schema_version": 3,
     "solution": true,
     "task": false
    }
   },
   "outputs": [],
   "source": [
    "# Add your function here. do NOT modify the function name\n",
    "def crop_stack_data(files_to_crop, crop_dir_path, crop_bound):\n",
    "\n",
    "    # YOUR CODE HERE\n",
    "    raise NotImplementedError()"
   ]
  },
  {
   "cell_type": "markdown",
   "metadata": {
    "deletable": false,
    "editable": false,
    "nbgrader": {
     "cell_type": "markdown",
     "checksum": "dab3c2ee8ed5106eaa045c5199e9475b",
     "grade": false,
     "grade_id": "cell-ef840bfc7b4fcf0e",
     "locked": true,
     "schema_version": 3,
     "solution": false,
     "task": false
    }
   },
   "source": [
    "## Function 2: mask_data\n",
    "\n",
    "In the call below, write a function called `mask_data` that: \n",
    "1. Masks a numpy array using the Landsat Cloud QA layer. \n",
    "    * **2 inputs:** numpy array to be masked, 2) landsat qa layer in numpy array format \n",
    "2. Returns a masked array. \n",
    "    * **1 output:** masked numpy array"
   ]
  },
  {
   "cell_type": "code",
   "execution_count": null,
   "metadata": {
    "deletable": false,
    "nbgrader": {
     "cell_type": "code",
     "checksum": "d2262c6cc8ebcd7b6b483fc0c62aeab5",
     "grade": false,
     "grade_id": "cell-2f2fda206fb36d0c",
     "locked": false,
     "schema_version": 3,
     "solution": true,
     "task": false
    }
   },
   "outputs": [],
   "source": [
    "# Define mask_data function\n",
    "\n",
    "def mask_data(arr, path_to_qa):\n",
    "\n",
    "    # YOUR CODE HERE\n",
    "    raise NotImplementedError()"
   ]
  },
  {
   "cell_type": "markdown",
   "metadata": {
    "deletable": false,
    "editable": false,
    "nbgrader": {
     "cell_type": "markdown",
     "checksum": "c4920d5ba8a7164a38e671fa31d232c9",
     "grade": false,
     "grade_id": "cell-7323f4c1f41828f0",
     "locked": true,
     "schema_version": 3,
     "solution": false,
     "task": false
    }
   },
   "source": [
    "## Function 3: classify_dnbr\n",
    "\n",
    "In the cell below, write a function called `classify_dnbr` that: \n",
    "1. Masks a numpy array using the Landsat Cloud QA layer. \n",
    "    * **1 input:** numpy array containing dNBR data in numpy array format \n",
    "2. Returns a classified numpy array. \n",
    "    * **1 output:** numpy array with classified values (integers)"
   ]
  },
  {
   "cell_type": "code",
   "execution_count": null,
   "metadata": {
    "deletable": false,
    "nbgrader": {
     "cell_type": "code",
     "checksum": "7c3452823b4a48270dd3816590e0afa1",
     "grade": false,
     "grade_id": "cell-033ba180dbc20c63",
     "locked": false,
     "schema_version": 3,
     "solution": true,
     "task": false
    }
   },
   "outputs": [],
   "source": [
    "def classify_dnbr(arr):\n",
    "\n",
    "    # YOUR CODE HERE\n",
    "    raise NotImplementedError()"
   ]
  },
  {
   "cell_type": "markdown",
   "metadata": {
    "deletable": false,
    "editable": false,
    "nbgrader": {
     "cell_type": "markdown",
     "checksum": "066f61b26bf9aee02b301274184acaf6",
     "grade": false,
     "grade_id": "cell-66f7d2197e6e0c20",
     "locked": true,
     "schema_version": 3,
     "solution": false,
     "task": false
    }
   },
   "source": [
    "## Assignment Week 2 - BEGINS March 18 \n",
    "You will write the function below next week after learning more about MODIS \n",
    "h4 data in class on March 18, 2020.\n",
    "\n",
    "### Function 4: stack_modis_bands\n",
    "\n",
    "Write a function called `stack_modis_bands` that: \n",
    "1. Loops through an `h4` file to collect and stack all \"band\" layers in the file.\n",
    "2. Crops each band to the extent of a given input boundary in GeoPandas GeoDataFrame format.\n",
    "3. Returns a stacked numpy array of the cropped data and the metadata.\n",
    "\n",
    "#### Function Inputs and Outputs\n",
    "\n",
    "1. Takes a path to an h4 file and returns the reflectance bands cropped to a specific extent \n",
    "    * **2 inputs:** 1) string path to hdf h4 file, 2) crop_bound in GeoDataFrame format\n",
    "2. Returns a classified numpy array. \n",
    "    * **2 outputs:** 1) numpy array containing cropped MODIS reflectance bands, 2) metadata for the numpy array"
   ]
  },
  {
   "cell_type": "code",
   "execution_count": null,
   "metadata": {
    "deletable": false,
    "nbgrader": {
     "cell_type": "code",
     "checksum": "ba05ad3d236c98f760e575e99796f259",
     "grade": false,
     "grade_id": "cell-e730c0516d588d6c",
     "locked": false,
     "schema_version": 3,
     "solution": true,
     "task": false
    }
   },
   "outputs": [],
   "source": [
    "def stack_modis_bands(h4_path, crop_bound):\n",
    "\n",
    "    # YOUR CODE HERE\n",
    "    raise NotImplementedError()"
   ]
  },
  {
   "cell_type": "markdown",
   "metadata": {
    "deletable": false,
    "editable": false,
    "nbgrader": {
     "cell_type": "markdown",
     "checksum": "03137f3bea2bf58f3dcecc2b9f10030c",
     "grade": false,
     "grade_id": "cell-fdb313a690f2d6df7",
     "locked": true,
     "schema_version": 3,
     "solution": false,
     "task": false
    }
   },
   "source": [
    "![Colored Bar](colored-bar.png)"
   ]
  },
  {
   "cell_type": "markdown",
   "metadata": {
    "deletable": false,
    "editable": false,
    "nbgrader": {
     "cell_type": "markdown",
     "checksum": "ba8bf5977555e90678e901dbe0ddfdb7",
     "grade": false,
     "grade_id": "cell-715ab53f5eb8f67b",
     "locked": true,
     "schema_version": 3,
     "solution": false,
     "task": false
    }
   },
   "source": [
    "# Figure 1 Overview - Grid of 3 Color InfraRed (CIR) Plots: NAIP, Landsat and MODIS\n",
    "\n",
    "**You will be able to complete the MODIS subplot after March 18 class!**\n",
    "\n",
    "Create a single figure that contains a grid of 3 plots of color infrared (also called false color) composite images using:\n",
    "\n",
    "* Post Fire NAIP data (this is the data that you downloaded for your week 6 homework)\n",
    "* Post Fire Landsat data (use: `et.data.get_data(url=\"https://ndownloader.figshare.com/files/21941085\")`\n",
    "* Post Fire MODIS data (use: `et.data.get_data('cold-springs-modis-h5')`\n",
    "\n",
    "For each map, be sure to:\n",
    "\n",
    "* Crop the data to the fire boundary extent.\n",
    "* Overlay the fire boundary layer (`vector_layers/fire-boundary-geomac/co_cold_springs_20160711_2200_dd83.shp`).\n",
    "* Use the band combination **r = infrared band**, **g = red band**, **b = green** band.\n",
    "* Be sure to label each plot with the data type (NAIP vs. Landsat vs. MODIS) and spatial resolution.\n",
    "\n",
    "HINT: In a CIR image, the NIR band is plotted on the “red” band, the red band is plotted on the \"green\" band and the green band is plotted on the \"blue\" band."
   ]
  },
  {
   "cell_type": "code",
   "execution_count": null,
   "metadata": {
    "deletable": false,
    "nbgrader": {
     "cell_type": "code",
     "checksum": "e799ed2392ffdb02e1949a0660cb7444",
     "grade": false,
     "grade_id": "cell-24a209b218bbe2bc",
     "locked": false,
     "schema_version": 3,
     "solution": true,
     "task": false
    }
   },
   "outputs": [],
   "source": [
    "# Open fire boundary in this cell\n",
    "\n",
    "# YOUR CODE HERE\n",
    "raise NotImplementedError()"
   ]
  },
  {
   "cell_type": "markdown",
   "metadata": {
    "deletable": false,
    "editable": false,
    "nbgrader": {
     "cell_type": "markdown",
     "checksum": "8d91cb0eddd39dc77da78f6f7500098e",
     "grade": false,
     "grade_id": "cell-db19c5fba1aa6b13",
     "locked": true,
     "schema_version": 3,
     "solution": false,
     "task": false
    }
   },
   "source": [
    "## Process Landsat Data\n",
    "\n",
    "In the cells below, open and process your Landsat Data using loops and string manipulation of paths. \n",
    "\n",
    "Use the functions `crop_stack_data()` and `mask_data()` that you wrote above to open, \n",
    "crop and stack each Landsat data scene (pre and post fire).\n",
    "\n",
    "#### Notes\n",
    "\n",
    "If you were implementing this workflow for more scenes, you could write \n",
    "a helper function that tested the crs of the crop extent. If it needed to be \n",
    "reprojected you could do so and write it out as a file, or store is in a dictionary\n",
    "for for reuse \n",
    "in your loop. For this assignment rather than introducing additional tasks\n",
    "we will keep it simple and open up and reproject the boundary once.\n",
    "\n",
    "One way to do this is to create a connection to one single tif file using\n",
    "rasterio. Once you have the `src` object you can grab the crs and reproject\n",
    "the fire boundary. The code to do that is below:\n",
    "\n",
    "```\n",
    "with rio.open(glob(all_dirs[0] + \"/*.tif\")[0]) as src:\n",
    "    fire_bound_utmz13 = fire_boundary.to_crs(src.crs)\n",
    "```\n"
   ]
  },
  {
   "cell_type": "code",
   "execution_count": null,
   "metadata": {
    "deletable": false,
    "nbgrader": {
     "cell_type": "code",
     "checksum": "6e19fb37acef69adc4fbceda4b111788",
     "grade": false,
     "grade_id": "cell-736f55ecddd6ba9e",
     "locked": false,
     "schema_version": 3,
     "solution": true,
     "task": false
    }
   },
   "outputs": [],
   "source": [
    "# Create loop to process Landsat data in this cell\n",
    "# Use the functions that you wrote above!\n",
    "\n",
    "# YOUR CODE HERE\n",
    "raise NotImplementedError()"
   ]
  },
  {
   "cell_type": "markdown",
   "metadata": {
    "deletable": false,
    "editable": false,
    "nbgrader": {
     "cell_type": "markdown",
     "checksum": "c9747aa296e6525d02b87db803bde962",
     "grade": false,
     "grade_id": "cell-f27c717f70b3896c",
     "locked": true,
     "schema_version": 3,
     "solution": false,
     "task": false
    }
   },
   "source": [
    "## Landsat Function Tests"
   ]
  },
  {
   "cell_type": "code",
   "execution_count": null,
   "metadata": {
    "deletable": false,
    "editable": false,
    "nbgrader": {
     "cell_type": "code",
     "checksum": "ffe0fe93fc20c9669e112a2c63f16e07",
     "grade": true,
     "grade_id": "cell-27e4ee294fcfa584",
     "locked": true,
     "points": 5,
     "schema_version": 3,
     "solution": false,
     "task": false
    }
   },
   "outputs": [],
   "source": [
    "# DO NOT MODIFY - test: crop_stack_data function"
   ]
  },
  {
   "cell_type": "code",
   "execution_count": null,
   "metadata": {
    "deletable": false,
    "editable": false,
    "nbgrader": {
     "cell_type": "code",
     "checksum": "0ee6f7aeffc75f6af1300b730edcf73d",
     "grade": true,
     "grade_id": "cell-a44324eaa47cb6dd",
     "locked": true,
     "points": 5,
     "schema_version": 3,
     "solution": false,
     "task": false
    }
   },
   "outputs": [],
   "source": [
    "# DO NOT MODIFY - test mask_data function\n"
   ]
  },
  {
   "cell_type": "code",
   "execution_count": null,
   "metadata": {
    "deletable": false,
    "editable": false,
    "nbgrader": {
     "cell_type": "code",
     "checksum": "abdd07c11444d866820e5af3098f2818",
     "grade": true,
     "grade_id": "cell-f555d110a2c0ba38",
     "locked": true,
     "points": 5,
     "schema_version": 3,
     "solution": false,
     "task": false
    }
   },
   "outputs": [],
   "source": [
    "# DO NOT MODIFY -- Test classify_dnbr function\n",
    "# BEGIN HIDDEN TEST\n",
    "### DO NOT REMOVE CODE BELOW ###\n",
    "\n",
    "points = 0\n",
    "try:\n",
    "\n",
    "    dnbr = classify_dnbr(dnbr_landsat_arr)\n",
    "    assert(isinstance(dnbr, np.ndarray))\n",
    "    points += 2.5\n",
    "    print(\"dnbr_class_bins is a list!\")\n",
    "except AssertionError:\n",
    "    print(\"dnbr_class_bins should be a list.\")\n",
    "\n",
    "try:\n",
    "    assert(set(np.unique(dnbr)) == {1, 2, 3, 4, 5})\n",
    "    points += 2.5\n",
    "    print(\"dnbr_class_bins has the correct values!\")\n",
    "except AssertionError:\n",
    "    print(\"dnbr_class_bins does not have the correct values.\")\n",
    "\n",
    "points\n",
    "\n",
    "# END HIDDEN TEST"
   ]
  },
  {
   "cell_type": "markdown",
   "metadata": {
    "deletable": false,
    "editable": false,
    "nbgrader": {
     "cell_type": "markdown",
     "checksum": "f72b2bd5c925a990d239e837fe1d5552",
     "grade": false,
     "grade_id": "cell-4c085d457c3cdbb5",
     "locked": true,
     "schema_version": 3,
     "solution": false,
     "task": false
    }
   },
   "source": [
    "## Process NAIP Post Fire Data\n",
    "\n",
    "In the cell below, open and crop the post-fire NAIP data that you downloaded \n",
    "for homework 6."
   ]
  },
  {
   "cell_type": "code",
   "execution_count": null,
   "metadata": {
    "deletable": false,
    "nbgrader": {
     "cell_type": "code",
     "checksum": "02ba8e6b7d3f2fa9c74ed412ef3ca3d1",
     "grade": false,
     "grade_id": "cell-8c391e31f8b2843f",
     "locked": false,
     "schema_version": 3,
     "solution": true,
     "task": false
    }
   },
   "outputs": [],
   "source": [
    "# Process NAIP data\n",
    "\n",
    "# YOUR CODE HERE\n",
    "raise NotImplementedError()"
   ]
  },
  {
   "cell_type": "markdown",
   "metadata": {
    "deletable": false,
    "editable": false,
    "nbgrader": {
     "cell_type": "markdown",
     "checksum": "7a7d8b28edc60134269e3e7fa36b4daf",
     "grade": false,
     "grade_id": "cell-325e79b50edfcb71",
     "locked": true,
     "schema_version": 3,
     "solution": false,
     "task": false
    }
   },
   "source": [
    "## Process MODIS h4 Data - March 18th, 2020\n",
    "\n",
    "In the cells below, open and process your MODIS hdf4 data using loops and \n",
    "string manipulation of paths. You will learn more about working with MODIS \n",
    "in class on March 18th.\n",
    "\n",
    "Use the function `stack_modis_bands()` that you will write to open and crop \n",
    "the MODIS data.\n"
   ]
  },
  {
   "cell_type": "code",
   "execution_count": null,
   "metadata": {
    "deletable": false,
    "nbgrader": {
     "cell_type": "code",
     "checksum": "b298c8ab766b8b49e695b31d54f2fb81",
     "grade": false,
     "grade_id": "cell-244689f994e59daa",
     "locked": false,
     "schema_version": 3,
     "solution": true,
     "task": false
    }
   },
   "outputs": [],
   "source": [
    "# Process MODIS Data\n",
    "\n",
    "# YOUR CODE HERE\n",
    "raise NotImplementedError()"
   ]
  },
  {
   "cell_type": "code",
   "execution_count": null,
   "metadata": {
    "deletable": false,
    "editable": false,
    "nbgrader": {
     "cell_type": "code",
     "checksum": "71cfe3063dd96369c12662e318780f05",
     "grade": true,
     "grade_id": "cell-41e97b2dd5a5c5d5",
     "locked": true,
     "points": 10,
     "schema_version": 3,
     "solution": false,
     "task": false
    }
   },
   "outputs": [],
   "source": [
    "# DO NOT MODIFY THIS CELL - autograding tests for MODIS function stack_modis_bands\n",
    "\n",
    "# BEGIN HIDDEN TEST\n",
    "\n",
    "# Test their modis function works as expected\n",
    "# We may need to add more specifics about how to create it\n",
    "\n",
    "modis_path_dirs = glob(os.path.join(\"cold-springs-modis-h5\") + \"/*/\")\n",
    "\n",
    "modis_dict = {}\n",
    "modis_veg_index = {}\n",
    "points = 0\n",
    "for adir in modis_path_dirs:\n",
    "\n",
    "    # Get date for data\n",
    "    modis_date = os.path.basename(os.path.normpath(adir))\n",
    "    modis_h4_path = glob(os.path.join(adir, \"*.hdf\"))[0]\n",
    "    try:\n",
    "        modis_arr, modis_meta = stack_modis_bands(modis_h4_path,\n",
    "                                                  fire_boundary)\n",
    "        if (type(modis_arr) == np.ndarray):\n",
    "            points += 5\n",
    "            print(\"Excellent, the first object returned from your \"\n",
    "                  \"stack_modis_bands function for the dir: {0} \"\n",
    "                  \"is a numpy array.\".format(adir))\n",
    "    except:\n",
    "        print(\"Oops looks like your stack_modis_bands function doesn't work as\"\n",
    "              \"expected. It should return a numpy array\")\n",
    "\n",
    "points\n",
    "# END HIDDEN TEST"
   ]
  },
  {
   "cell_type": "markdown",
   "metadata": {
    "deletable": false,
    "editable": false,
    "hideCode": false,
    "hidePrompt": false,
    "nbgrader": {
     "cell_type": "markdown",
     "checksum": "5ad09b9576d31334a11675945520af98",
     "grade": false,
     "grade_id": "cell-6ca04a45ff093c62",
     "locked": true,
     "schema_version": 3,
     "solution": false,
     "task": false
    }
   },
   "source": [
    "## Figure 1: Plot CIR for NAIP, Landsat and MODIS Using Post Fire Data\n",
    "\n",
    "In the cell below, create a figure with 3 subplots stacked vertically.\n",
    "\n",
    "In each subplot, plot a CIR composite image using \n",
    "\n",
    "NAIP  (first figure axis), \n",
    "Landsat (second figure axis), and \n",
    "MODIS (third figure axis)\n",
    "\n",
    "post-fire data on the first, second, and third axes of this figure."
   ]
  },
  {
   "cell_type": "code",
   "execution_count": null,
   "metadata": {
    "deletable": false,
    "hideCode": false,
    "hidePrompt": false,
    "nbgrader": {
     "cell_type": "code",
     "checksum": "99edb41a9186f90f5f42a9f62321c492",
     "grade": false,
     "grade_id": "cell-4feb05c88bb2f0d7",
     "locked": false,
     "schema_version": 3,
     "solution": true,
     "task": false
    }
   },
   "outputs": [],
   "source": [
    "# Plot CIR of Post Fire NAIP, Landsat & MODIS together in one figure\n",
    "\n",
    "# YOUR CODE HERE\n",
    "raise NotImplementedError()\n",
    "### DO NOT REMOVE LINE BELOW ###\n",
    "plot01_CIR_res_comparison = nb.convert_axes(plt, which_axes=\"all\")"
   ]
  },
  {
   "cell_type": "code",
   "execution_count": null,
   "metadata": {
    "deletable": false,
    "editable": false,
    "nbgrader": {
     "cell_type": "code",
     "checksum": "4c71d671391e7025762b243391dd33de",
     "grade": true,
     "grade_id": "cell-3c3e6bc76ded28b5",
     "locked": true,
     "points": 15,
     "schema_version": 3,
     "solution": false,
     "task": false
    }
   },
   "outputs": [],
   "source": [
    "# DO NOT TOUCH THIS CELL - autograding tests for NAIP subplot\n"
   ]
  },
  {
   "cell_type": "code",
   "execution_count": null,
   "metadata": {
    "deletable": false,
    "editable": false,
    "nbgrader": {
     "cell_type": "code",
     "checksum": "3f49955e7629c8a1661161e55f4c2096",
     "grade": true,
     "grade_id": "cell-0259f2c506f88113",
     "locked": true,
     "points": 15,
     "schema_version": 3,
     "solution": false,
     "task": false
    }
   },
   "outputs": [],
   "source": [
    "# DO NOT TOUCH THIS CELL - autograding tests for Landsat subplot\n"
   ]
  },
  {
   "cell_type": "code",
   "execution_count": null,
   "metadata": {
    "deletable": false,
    "editable": false,
    "nbgrader": {
     "cell_type": "code",
     "checksum": "6796d08a5da95c82ab8dfd771066f44d",
     "grade": true,
     "grade_id": "cell-158bfb775a0eddae",
     "locked": true,
     "points": 15,
     "schema_version": 3,
     "solution": false,
     "task": false
    }
   },
   "outputs": [],
   "source": [
    "# DO NOT TOUCH THIS CELL - autograding tests for MODIS subplot\n"
   ]
  },
  {
   "cell_type": "markdown",
   "metadata": {
    "deletable": false,
    "editable": false,
    "nbgrader": {
     "cell_type": "markdown",
     "checksum": "ca8f56767ff74346a9b7f818bd5ee57a",
     "grade": false,
     "grade_id": "cell-fdb313a690f2d6df6",
     "locked": true,
     "schema_version": 3,
     "solution": false,
     "task": false
    }
   },
   "source": [
    "![Colored Bar](colored-bar.png)"
   ]
  },
  {
   "cell_type": "markdown",
   "metadata": {
    "deletable": false,
    "editable": false,
    "nbgrader": {
     "cell_type": "markdown",
     "checksum": "00ee812e64e43bf2471a3de377af5a01",
     "grade": false,
     "grade_id": "cell-802d899b1c54f069",
     "locked": true,
     "schema_version": 3,
     "solution": false,
     "task": false
    }
   },
   "source": [
    "# Figure 2: Difference NDVI (dNDVI) Using Landsat & MODIS Data\n",
    "\n",
    "Plot the NDVI difference using before and after Landsat and MODIS data \n",
    "that cover the Cold Springs Fire study area. For each axis be sure to:\n",
    "\n",
    "1. overlay the fire boundary (`vector_layers/fire-boundary-geomac/co_cold_springs_20160711_2200_dd83.shp`) on top of the data.\n",
    "2. Be sure that the data are cropped using the fire boundary extent.\n",
    "\n",
    "In the cell below, create a figure with 2 subplots stacked vertically.\n",
    "Plot dNDVI for Landsat on the first axis and dNDVI using MODIS on the \n",
    "second axe of the figure.\n",
    "\n",
    "Use the before and after data that you processed above to calculate NDVI difference\n",
    "for both MODIS and Landsat\n",
    "\n",
    "\n",
    "## NDVI Difference\n",
    "\n",
    "To create the NDVI Difference raster using before and after fire \n",
    "Landsat and MODIS data, you must first calculate NDVI for each \n",
    "dataset before and after the fire. \n",
    "\n",
    "Once you have the before and after NDVI arrays, you can subtract \n",
    "the pre-fire NDVI array FROM the post-fire NDVI array (post-fire minus pre-fire). \n",
    "\n",
    "The resulting array will show you change in the area's NDVI from the first image to the second image.\n",
    "\n",
    "HINT: Remember, you can use `es.normalized_diff(band_1, band_2)` to get the NDVI of an image. "
   ]
  },
  {
   "cell_type": "code",
   "execution_count": null,
   "metadata": {
    "deletable": false,
    "nbgrader": {
     "cell_type": "code",
     "checksum": "5ce10a824f1335df5d08b38da06a1a8e",
     "grade": false,
     "grade_id": "cell-04c708968d254a97",
     "locked": false,
     "schema_version": 3,
     "solution": true,
     "task": false
    }
   },
   "outputs": [],
   "source": [
    "# Plot Difference NDVI for Landsat & MODIS together in one figure\n",
    "\n",
    "# YOUR CODE HERE\n",
    "raise NotImplementedError()\n",
    "\n",
    "### DO NOT REMOVE LINE BELOW ###\n",
    "plot02_landsat_modis_ndvi_diff = nb.convert_axes(plt, which_axes=\"all\")"
   ]
  },
  {
   "cell_type": "code",
   "execution_count": null,
   "metadata": {
    "deletable": false,
    "editable": false,
    "nbgrader": {
     "cell_type": "code",
     "checksum": "d44ce4a406159b2eff160d180d433d04",
     "grade": true,
     "grade_id": "cell-9b92af5e76ecf4b8",
     "locked": true,
     "points": 20,
     "schema_version": 3,
     "solution": false,
     "task": false
    }
   },
   "outputs": [],
   "source": [
    "# Ignore this cell - autograding tests for Landsat subplot\n"
   ]
  },
  {
   "cell_type": "code",
   "execution_count": null,
   "metadata": {
    "deletable": false,
    "editable": false,
    "nbgrader": {
     "cell_type": "code",
     "checksum": "3c9161717b561c5f91e54347573fc04f",
     "grade": true,
     "grade_id": "cell-88f2a83e96215ddb",
     "locked": true,
     "points": 20,
     "schema_version": 3,
     "solution": false,
     "task": false
    }
   },
   "outputs": [],
   "source": [
    "# Ignore this cell - autograding tests for MODIS subplot NDVI diff\n"
   ]
  },
  {
   "cell_type": "markdown",
   "metadata": {
    "deletable": false,
    "editable": false,
    "nbgrader": {
     "cell_type": "markdown",
     "checksum": "b3bb73ffc4c4f71d8447b659762d60fb",
     "grade": false,
     "grade_id": "cell-fdb313a690f2d6df34",
     "locked": true,
     "schema_version": 3,
     "solution": false,
     "task": false
    }
   },
   "source": [
    "![Colored Bar](colored-bar.png)"
   ]
  },
  {
   "cell_type": "markdown",
   "metadata": {
    "deletable": false,
    "editable": false,
    "nbgrader": {
     "cell_type": "markdown",
     "checksum": "96a13add1225929325c4656c91ea1924",
     "grade": false,
     "grade_id": "cell-0c6f881253c837c1",
     "locked": true,
     "schema_version": 3,
     "solution": false,
     "task": false
    }
   },
   "source": [
    "# Figure 3 Overview: Difference NBR (dNBR) Using Landsat  & MODIS Data\n",
    "\n",
    "Create a figure that has two subplots stacked vertically using the same MODIS and Landsat data that you processed above. \n",
    "\n",
    "Subplot one: classified dNBR using Landsat data\n",
    "Subplot two: classified dNBR using MODIS data \n",
    "\n",
    "For each subplot, overlay the fire extent boundary `vector_layers/fire-boundary-geomac/co_cold_springs_20160711_2200_dd83.shp`\n",
    "on top of the dNBR map\n",
    "\n",
    "To classify each dNBR raster, use the `classify_dnbr()` function that you \n",
    "defined above. \n",
    "\n",
    "When you plot your MODIS data, you may notice that the data does not contain all of the classes that Landsat contains which can range from 1-5. To ensure that your colormap plots properly, set the `vmin=` and `vmax=` parameters to 1 and 5 respectively when you call `ep.plot_bands()`:\n",
    "\n",
    "`vmin=1, vmax=5`\n",
    "\n",
    "\n",
    "## Figure Legend\n",
    "\n",
    "You only need one legend for this figure. The `ep.draw_legend()` function will create a legend of \"boxes\" if you provide it with an:\n",
    "\n",
    "1. `imshow()` image object\n",
    "2. classes : a list of numbers that represent the classes in your numpy array\n",
    "3. titles: a list of dNBR class names example: `[\"High Severity\", \"Low Severity\"]`\n",
    "\n",
    "### dNBR Classes\n",
    "\n",
    "Note: if you scaled your data, you may need to scale the values below by a factor of 10.\n",
    "\n",
    "| SEVERITY LEVEL  | dNBR RANGE |\n",
    "|----------------|--------------|\n",
    "| Enhanced Regrowth | < -.1 |\n",
    "| Unburned        | -.1 to +.1 |\n",
    "| Low Severity     | +.1 to +.27 |\n",
    "| Moderate Severity  | +.27 to +.66 |\n",
    "| High Severity    | > .66 |\n",
    "\n",
    "\n",
    "HINT: Your dNBR classification list should look like this:\n",
    "`[-np.inf, -.1, .1, .27, .66, np.inf]`\n",
    "\n",
    "HINT 2: If you want to use them, these are the colors used in the maps on the website:\n",
    "\n",
    "`[\"g\", \"yellowgreen\", \"peachpuff\", \"coral\", \"maroon\"]`\n",
    "\n",
    "The code to create a custom colormap for the plot is below:\n",
    "\n",
    "```\n",
    "nbr_colors = [\"g\", \"yellowgreen\", \"peachpuff\", \"coral\", \"maroon\"]\n",
    "nbr_cmap = ListedColormap(nbr_colors)\n",
    "```"
   ]
  },
  {
   "cell_type": "code",
   "execution_count": null,
   "metadata": {
    "deletable": false,
    "hideCode": false,
    "hidePrompt": false,
    "nbgrader": {
     "cell_type": "code",
     "checksum": "b5dfbf34f41ffe127d60ed6adb882f78",
     "grade": false,
     "grade_id": "cell-296ed0f3c3b010fd",
     "locked": false,
     "schema_version": 3,
     "solution": true,
     "task": false
    },
    "slideshow": {
     "slide_type": "slide"
    },
    "tags": [
     "hide"
    ]
   },
   "outputs": [],
   "source": [
    "# Calculate dNBR for Landsat - be sure to use the correct bands!\n",
    "\n",
    "# YOUR CODE HERE\n",
    "raise NotImplementedError()"
   ]
  },
  {
   "cell_type": "code",
   "execution_count": null,
   "metadata": {
    "deletable": false,
    "nbgrader": {
     "cell_type": "code",
     "checksum": "40d468a2e395952c712e617adb32cf35",
     "grade": false,
     "grade_id": "cell-1b1b71c7a1d9c6e6",
     "locked": false,
     "schema_version": 3,
     "solution": true,
     "task": false
    },
    "tags": [
     "hide"
    ]
   },
   "outputs": [],
   "source": [
    "# Plot Difference NBR (dNBR) for Landsat & MODIS together in one figure\n",
    "\n",
    "# YOUR CODE HERE\n",
    "raise NotImplementedError()\n",
    "\n",
    "### DO NOT REMOVE LINE BELOW ###\n",
    "plot03_landsat_dnbr = nb.convert_axes(plt, which_axes=\"all\")"
   ]
  },
  {
   "cell_type": "code",
   "execution_count": null,
   "metadata": {
    "deletable": false,
    "editable": false,
    "nbgrader": {
     "cell_type": "code",
     "checksum": "3471617e9a4ae30fd5eefc84b8d9a482",
     "grade": true,
     "grade_id": "cell-39ad421822088e36",
     "locked": true,
     "points": 25,
     "schema_version": 3,
     "solution": false,
     "task": false
    }
   },
   "outputs": [],
   "source": [
    "# Ignore this cell - autograding tests for Landsat subplot\n"
   ]
  },
  {
   "cell_type": "code",
   "execution_count": null,
   "metadata": {
    "deletable": false,
    "editable": false,
    "nbgrader": {
     "cell_type": "code",
     "checksum": "82d3c26fd808b9c719c134f768db85f1",
     "grade": true,
     "grade_id": "cell-bf37c466c5974606",
     "locked": true,
     "points": 25,
     "schema_version": 3,
     "solution": false,
     "task": false
    }
   },
   "outputs": [],
   "source": [
    "# Ignore this cell - autograding tests for MODIS subplot\n"
   ]
  },
  {
   "cell_type": "markdown",
   "metadata": {
    "deletable": false,
    "editable": false,
    "nbgrader": {
     "cell_type": "markdown",
     "checksum": "770e92ae1d7e02885bbbbbdbcea018ee",
     "grade": false,
     "grade_id": "cell-fdb313a690f2d6df",
     "locked": true,
     "schema_version": 3,
     "solution": false,
     "task": false
    }
   },
   "source": [
    "![Colored Bar](colored-bar.png)"
   ]
  },
  {
   "cell_type": "markdown",
   "metadata": {
    "deletable": false,
    "editable": false,
    "nbgrader": {
     "cell_type": "markdown",
     "checksum": "2b67a6c9616aadd99ffcb2a17714039d",
     "grade": false,
     "grade_id": "cell-36a8da41cd9c3ca1",
     "locked": true,
     "schema_version": 3,
     "solution": false,
     "task": false
    }
   },
   "source": [
    "# Landsat vs MODIS  Burned Area\n",
    "\n",
    "In the cell below, print the total area burned in classes 4 and 5 (moderate to high severity) for both datasets \n",
    "(Landsat and MODIS).\n",
    "\n",
    "HINT: Feel free to experiment with loops to complete this part of the homework. "
   ]
  },
  {
   "cell_type": "code",
   "execution_count": null,
   "metadata": {
    "deletable": false,
    "hideCode": false,
    "hidePrompt": false,
    "nbgrader": {
     "cell_type": "code",
     "checksum": "9971a8ab8c5304aa7fea5bde24645e9d",
     "grade": false,
     "grade_id": "cell-e8ccdd40f3954765",
     "locked": false,
     "schema_version": 3,
     "solution": true,
     "task": false
    }
   },
   "outputs": [],
   "source": [
    "# Total Burned Area in Classes 4 and 5 for Landsat and MODIS\n",
    "\n",
    "# YOUR CODE HERE\n",
    "raise NotImplementedError()"
   ]
  },
  {
   "cell_type": "code",
   "execution_count": null,
   "metadata": {
    "deletable": false,
    "nbgrader": {
     "cell_type": "code",
     "checksum": "2d6236e1f7db15c03682e76193f9850a",
     "grade": true,
     "grade_id": "cell-b8a342e0efca8f12",
     "locked": false,
     "points": 10,
     "schema_version": 3,
     "solution": true,
     "task": false
    }
   },
   "outputs": [],
   "source": [
    "# YOUR CODE HERE\n",
    "raise NotImplementedError()"
   ]
  },
  {
   "cell_type": "markdown",
   "metadata": {
    "deletable": false,
    "editable": false,
    "nbgrader": {
     "cell_type": "markdown",
     "checksum": "2d153c4d5ec9904b2db35a0019b4b55b",
     "grade": false,
     "grade_id": "cell-abb0c1ad98e21309",
     "locked": true,
     "schema_version": 3,
     "solution": false,
     "task": false
    }
   },
   "source": [
    "![Colored Bar](colored-bar.png)"
   ]
  },
  {
   "cell_type": "markdown",
   "metadata": {
    "deletable": false,
    "editable": false,
    "nbgrader": {
     "cell_type": "markdown",
     "checksum": "a12b95fce42fba9c3e1089b39ccd6cfa",
     "grade": false,
     "grade_id": "cell-ec0d7bea2f290944",
     "locked": true,
     "points": 5,
     "schema_version": 3,
     "solution": false,
     "task": true
    }
   },
   "source": [
    "# Do not edit this cell!\n",
    "\n",
    "* Each figure specifies the source of the data (for each plot) using a plot caption created with `ax.text()`."
   ]
  },
  {
   "cell_type": "markdown",
   "metadata": {
    "deletable": false,
    "editable": false,
    "nbgrader": {
     "cell_type": "markdown",
     "checksum": "b7fd951ca906e49a0dfb7e6d29dad6f8",
     "grade": false,
     "grade_id": "cell-66b64706a43110d3",
     "locked": true,
     "points": 10,
     "schema_version": 3,
     "solution": false,
     "task": true
    }
   },
   "source": [
    "# Do not edit this cell!\n",
    "\n",
    "The notebook will also be checked for overall clean code requirements as specified at the **very top** of this notebook! Some of these requirements include (review the top cells for more specifics): \n",
    "\n",
    "* Notebook begins at cell [1] and runs on any machine in its entirety.\n",
    "* PEP 8 format is applied throughout (including lengths of comment and code lines).\n",
    "* No additional code or imports in the notebook\n",
    "* Notebook is fully reproducible. This means:\n",
    "   * reproducible paths using the os module.\n",
    "   * data downloaded using code in the notebook.\n",
    "   * all imports at top of notebook."
   ]
  },
  {
   "cell_type": "markdown",
   "metadata": {
    "deletable": false,
    "editable": false,
    "nbgrader": {
     "cell_type": "markdown",
     "checksum": "58652dbccf333b54b1a363df9027fabf",
     "grade": false,
     "grade_id": "cell-ceb0e7464a8b4ca7",
     "locked": true,
     "points": 5,
     "schema_version": 3,
     "solution": false,
     "task": true
    }
   },
   "source": [
    "# DO NOT EDIT\n",
    "\n",
    "All functions contain docstrings with inputs and outputs clearly indicated\n",
    "\n"
   ]
  }
 ],
 "metadata": {
  "hide_code_all_hidden": false,
  "kernelspec": {
   "display_name": "Python 3",
   "language": "python",
   "name": "python3"
  },
  "language_info": {
   "codemirror_mode": {
    "name": "ipython",
    "version": 3
   },
   "file_extension": ".py",
   "mimetype": "text/x-python",
   "name": "python",
   "nbconvert_exporter": "python",
   "pygments_lexer": "ipython3",
   "version": "3.7.6"
  },
  "toc": {
   "base_numbering": 1,
   "nav_menu": {},
   "number_sections": true,
   "sideBar": true,
   "skip_h1_title": false,
   "title_cell": "Table of Contents",
   "title_sidebar": "Contents",
   "toc_cell": false,
   "toc_position": {
    "height": "calc(100% - 180px)",
    "left": "10px",
    "top": "150px",
    "width": "330.433px"
   },
   "toc_section_display": true,
   "toc_window_display": true
  },
  "varInspector": {
   "cols": {
    "lenName": 16,
    "lenType": 16,
    "lenVar": 40
   },
   "kernels_config": {
    "python": {
     "delete_cmd_postfix": "",
     "delete_cmd_prefix": "del ",
     "library": "var_list.py",
     "varRefreshCmd": "print(var_dic_list())"
    },
    "r": {
     "delete_cmd_postfix": ") ",
     "delete_cmd_prefix": "rm(",
     "library": "var_list.r",
     "varRefreshCmd": "cat(var_dic_list()) "
    }
   },
   "types_to_exclude": [
    "module",
    "function",
    "builtin_function_or_method",
    "instance",
    "_Feature"
   ],
   "window_display": false
  }
 },
 "nbformat": 4,
 "nbformat_minor": 2
}
