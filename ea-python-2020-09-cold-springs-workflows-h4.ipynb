{
 "cells": [
  {
   "cell_type": "markdown",
   "metadata": {},
   "source": [
    "<img style=\"float: left;\" src=\"earth-lab-logo-rgb.png\" width=\"150\" height=\"150\" />\n",
    "\n",
    "# Homework Template: Earth Analytics Python Course: Spring 2020"
   ]
  },
  {
   "cell_type": "markdown",
   "metadata": {},
   "source": [
    "Before submitting this assignment, be sure to restart the kernel and run all cells. To do this, pull down the Kernel drop down at the top of this notebook. Then select **restart and run all**.\n",
    "\n",
    "Make sure you fill in any place that says `YOUR CODE HERE` or \"YOUR ANSWER HERE\", as well as your name and collaborators below.\n",
    "\n",
    "* IMPORTANT: Before you submit your notebook, restart the kernel and run all! Your first cell in the notebook should be `[1]` and all cells should run in order! You will lose points if your notebook does not run. \n",
    "\n",
    "For all plots and code in general:\n",
    "\n",
    "* Add appropriate titles to your plot that clearly and concisely describe what the plot shows (e.g. time, location, phenomenon).\n",
    "* Be sure to use the correct bands for each plot.\n",
    "* Specify the source of the data for each plot using a plot caption created with `ax.text()`.\n",
    "* Place ONLY the code needed to create a plot in the plot cells. Place additional processing code ABOVE that cell (in a separate code cell).\n",
    "\n",
    "Make sure that you:\n",
    "\n",
    "* **Only include the package imports, code, data, and outputs that are CRUCIAL to your homework assignment.**\n",
    "* Follow PEP 8 standards. Use the `pep8` tool in Jupyter Notebook to ensure proper formatting (however, note that it does not catch everything!).\n",
    "* Keep comments concise and strategic. Don't comment every line!\n",
    "* Organize your code in a way that makes it easy to follow. \n",
    "* Write your code so that it can be run on any operating system. This means that:\n",
    "   1. the data should be downloaded in the notebook to ensure it's reproducible.\n",
    "   2. all paths should be created dynamically using the os package to ensure that they work across operating systems. \n",
    "* Check for spelling errors in your text and code comments\n"
   ]
  },
  {
   "cell_type": "code",
   "execution_count": null,
   "metadata": {},
   "outputs": [],
   "source": [
    "NAME = \"\"\n",
    "COLLABORATORS = \"\""
   ]
  },
  {
   "cell_type": "markdown",
   "metadata": {},
   "source": [
    "![Colored Bar](colored-bar.png)"
   ]
  },
  {
   "cell_type": "markdown",
   "metadata": {
    "deletable": false,
    "editable": false,
    "nbgrader": {
     "cell_type": "markdown",
     "checksum": "6156b7f482abbd545680683831089d04",
     "grade": false,
     "grade_id": "cell-491e59aec56791ef",
     "locked": true,
     "schema_version": 3,
     "solution": false,
     "task": false
    }
   },
   "source": [
    "# Week 09 Homework - Multispectral Remote Sensing II\n",
    "\n",
    "\n",
    "## Include the Plots, Text and Outputs Below\n",
    "\n",
    "For all plots:\n",
    "\n",
    "* In  markdown cell BELOW each plot, add 2-4 sentences that describe what each plot shows. \n",
    "* Add appropriate titles to your plot that clearly and concisely describe what the plot shows.\n",
    "* Be sure to use the correct bands for each plot.\n",
    "* Specify the source of the data used for each plot in a plot caption using `ax.text()`.\n",
    "\n",
    "## Project Introduction\n",
    "\n",
    "In the markdown cell below, adda 2-4sentence description of the Cold Springs Fire. This should include the event:\n",
    "1. name, \n",
    "2. type, \n",
    "3. duration / dates and \n",
    "4. location. \n"
   ]
  },
  {
   "cell_type": "markdown",
   "metadata": {
    "deletable": false,
    "nbgrader": {
     "cell_type": "markdown",
     "checksum": "cadd056287f70cb4613b7e3ed3e3dfe4",
     "grade": true,
     "grade_id": "cell-a6c72b4cbb716c7c",
     "locked": false,
     "points": 10,
     "schema_version": 3,
     "solution": true,
     "task": false
    }
   },
   "source": [
    "YOUR ANSWER HERE"
   ]
  },
  {
   "cell_type": "markdown",
   "metadata": {},
   "source": [
    "##### dNBR burn classes\n",
    "\n",
    "If you scaled your data, you may need to scale the\n",
    "values below by a factor of 10.\n",
    "\n",
    "| SEVERITY LEVEL  | dNBR RANGE |\n",
    "|----------------|--------------|\n",
    "| Enhanced Regrowth | < -.1 |\n",
    "| Unburned        | -.1 to +.1 |\n",
    "| Low Severity     | +.1 to +.27 |\n",
    "| Moderate Severity  | +.27 to +.66 |\n",
    "| High Severity    | > .66 |\n",
    "\n",
    "****"
   ]
  },
  {
   "cell_type": "markdown",
   "metadata": {
    "deletable": false,
    "editable": false,
    "nbgrader": {
     "cell_type": "markdown",
     "checksum": "5ab3b2a54c0bc89a2cf28858f16d8dfc",
     "grade": false,
     "grade_id": "cell-fdb313a690f2d6d0pf",
     "locked": true,
     "schema_version": 3,
     "solution": false,
     "task": false
    }
   },
   "source": [
    "![Colored Bar](colored-bar.png)"
   ]
  },
  {
   "cell_type": "code",
   "execution_count": null,
   "metadata": {
    "deletable": false,
    "editable": false,
    "nbgrader": {
     "cell_type": "code",
     "checksum": "44805d4679f7f9087f7a41218cfce618",
     "grade": false,
     "grade_id": "cell-7382539d71e6467c",
     "locked": true,
     "schema_version": 3,
     "solution": false,
     "task": false
    }
   },
   "outputs": [],
   "source": [
    "# Autograding imports - do not modify this cell\n",
    "import matplotcheck.notebook as nb\n",
    "import matplotcheck.autograde as ag\n",
    "import matplotcheck.raster as rs"
   ]
  },
  {
   "cell_type": "code",
   "execution_count": null,
   "metadata": {
    "deletable": false,
    "hideCode": false,
    "hidePrompt": false,
    "nbgrader": {
     "cell_type": "code",
     "checksum": "59b2884b8fc247935c78b05f5d3ea7a3",
     "grade": true,
     "grade_id": "cell-cade46b91b256c60",
     "locked": false,
     "points": 0,
     "schema_version": 3,
     "solution": true,
     "task": false
    },
    "tags": [
     "hide"
    ]
   },
   "outputs": [],
   "source": [
    "# Import libraries\n",
    "\n",
    "# YOUR CODE HERE\n",
    "raise NotImplementedError()\n",
    "\n",
    "\n",
    "### DO NOT REMOVE LINE BELOW ###"
   ]
  },
  {
   "cell_type": "markdown",
   "metadata": {
    "deletable": false,
    "editable": false,
    "nbgrader": {
     "cell_type": "markdown",
     "checksum": "03137f3bea2bf58f3dcecc2b9f10030c",
     "grade": false,
     "grade_id": "cell-fdb313a690f2d6df7",
     "locked": true,
     "schema_version": 3,
     "solution": false,
     "task": false
    }
   },
   "source": [
    "![Colored Bar](colored-bar.png)"
   ]
  },
  {
   "cell_type": "markdown",
   "metadata": {
    "deletable": false,
    "editable": false,
    "nbgrader": {
     "cell_type": "markdown",
     "checksum": "8dec6f129e076fb8e720470ad61e7702",
     "grade": false,
     "grade_id": "cell-715ab53f5eb8f67b",
     "locked": true,
     "schema_version": 3,
     "solution": false,
     "task": false
    }
   },
   "source": [
    "## Plot 1 - Grid of Plots: NAIP, Landsat and MODIS\n",
    "\n",
    "Create a single plot that contains a grid of 3, 3 band color infrared (also called false color) plots using:\n",
    "images using:\n",
    "\n",
    "* Post Fire NAIP data (this is the data that you already downloaded for your homework earlier this year)\n",
    "* Post Fire Landsat data (use: `et.data.get_data(url=\"https://ndownloader.figshare.com/files/21941085\")`\n",
    "* Post Fire MODIS data (use: `et.data.get_data('cold-springs-modis-h5')`\n",
    "\n",
    "For each map be sure to:\n",
    "\n",
    "* Crop the data to the fire boundary extent\n",
    "* Overlay the fire boundary layer (`vector_layers/fire-boundary-geomac/co_cold_springs_20160711_2200_dd83.shp`).\n",
    "* Use the band combination **r = infrared band**, **g = red band**, **b = green** band.\n",
    "* Be sure to label each plot with the data type (NAIP vs. Landsat vs. MODIS) and spatial resolution.\n",
    "\n",
    "Use this figure to help answer question 1 above.\n",
    "An example of what this plot should look like (without all of the labels that\n",
    "you need to add), is below.\n",
    "\n",
    "HINT: In a CIR image, the NIR band is plotted on the “red” band, the red band is plotted using green and the green band is plotted using blue."
   ]
  },
  {
   "cell_type": "code",
   "execution_count": null,
   "metadata": {
    "deletable": false,
    "nbgrader": {
     "cell_type": "code",
     "checksum": "b9ab71dfa446b96371d49ce776e39b57",
     "grade": false,
     "grade_id": "cell-033ba180dbc20c63",
     "locked": false,
     "schema_version": 3,
     "solution": true,
     "task": false
    }
   },
   "outputs": [],
   "source": [
    "def crop_stack_data(files_to_crop, crop_path, crop_bound):\n",
    "\n",
    "    # YOUR CODE HERE\n",
    "    raise NotImplementedError()\n",
    "\n",
    "\n",
    "def mask_data(arr, path_to_qa):\n",
    "\n",
    "    # YOUR CODE HERE\n",
    "    raise NotImplementedError()\n",
    "\n",
    "\n",
    "def classify_dnbr(arr):\n",
    "\n",
    "    # YOUR CODE HERE\n",
    "    raise NotImplementedError()"
   ]
  },
  {
   "cell_type": "markdown",
   "metadata": {
    "deletable": false,
    "editable": false,
    "nbgrader": {
     "cell_type": "markdown",
     "checksum": "9088bb4329086b4afb517ab27dda65a4",
     "grade": false,
     "grade_id": "cell-db19c5fba1aa6b13",
     "locked": true,
     "schema_version": 3,
     "solution": false,
     "task": false
    }
   },
   "source": [
    "## Process Landsat Data\n",
    "\n",
    "In the cell or cells below open and process your Landsat Data"
   ]
  },
  {
   "cell_type": "markdown",
   "metadata": {
    "deletable": false,
    "editable": false,
    "nbgrader": {
     "cell_type": "markdown",
     "checksum": "1bf1e9fe10e6b47972da0d4763f19f20",
     "grade": false,
     "grade_id": "cell-d659ef05d7363b26",
     "locked": true,
     "schema_version": 3,
     "solution": false,
     "task": false
    }
   },
   "source": [
    "\n",
    "# THERE\"S NO GOOD WAY TO HANDLE THE FIRE BOUNDARY REPROJECT\n",
    "\n",
    "option 1: in the loop. here you reprojecting multiple times\n",
    "option 2: read one tif file and reproject once. it's a manual process."
   ]
  },
  {
   "cell_type": "code",
   "execution_count": null,
   "metadata": {
    "deletable": false,
    "nbgrader": {
     "cell_type": "code",
     "checksum": "30536f0c4bcefdcdb1784c78c1d7ccea",
     "grade": false,
     "grade_id": "cell-24a209b218bbe2bc",
     "locked": false,
     "schema_version": 3,
     "solution": true,
     "task": false
    }
   },
   "outputs": [],
   "source": [
    "# YOUR CODE HERE\n",
    "raise NotImplementedError()"
   ]
  },
  {
   "cell_type": "code",
   "execution_count": null,
   "metadata": {
    "deletable": false,
    "nbgrader": {
     "cell_type": "code",
     "checksum": "b3c94a073050062a5d5fad6b01e35557",
     "grade": false,
     "grade_id": "cell-736f55ecddd6ba9e",
     "locked": false,
     "schema_version": 3,
     "solution": true,
     "task": false
    }
   },
   "outputs": [],
   "source": [
    "# YOUR CODE HERE\n",
    "raise NotImplementedError()"
   ]
  },
  {
   "cell_type": "markdown",
   "metadata": {
    "deletable": false,
    "editable": false,
    "nbgrader": {
     "cell_type": "markdown",
     "checksum": "ec3430dbda30414749b7b38e99ffc33a",
     "grade": false,
     "grade_id": "cell-d16eea36b60bbccd",
     "locked": true,
     "schema_version": 3,
     "solution": false,
     "task": false
    }
   },
   "source": [
    "## ALL FUNCTIONS SHOULD BE MOVED TO THE TOP\n",
    "\n",
    "In the cell below, create a function that does the following: \n",
    "\n",
    "1. Loops through an `h4` file and collects and stacks all \"band\" layers in the file\n",
    "2. Crops each band to the extent of a given input boundary in geopandas format\n",
    "3. Returns a stacked numpy array and the metadata for a single band \n",
    "\n",
    "Name your function `stack_modis_bands`."
   ]
  },
  {
   "cell_type": "code",
   "execution_count": null,
   "metadata": {
    "deletable": false,
    "nbgrader": {
     "cell_type": "code",
     "checksum": "36c150133d95ff0d3492cfb914e7b001",
     "grade": false,
     "grade_id": "cell-6e2a35a0950b2b06",
     "locked": false,
     "schema_version": 3,
     "solution": true,
     "task": false
    }
   },
   "outputs": [],
   "source": [
    "\n",
    "def stack_modis_bands(h4_path, crop_bound):\n",
    "\n",
    "    # YOUR CODE HERE\n",
    "    raise NotImplementedError()"
   ]
  },
  {
   "cell_type": "markdown",
   "metadata": {
    "deletable": false,
    "editable": false,
    "nbgrader": {
     "cell_type": "markdown",
     "checksum": "8eb61bd8007f537bd02236f52f60f647",
     "grade": false,
     "grade_id": "cell-325e79b50edfcb71",
     "locked": true,
     "schema_version": 3,
     "solution": false,
     "task": false
    }
   },
   "source": [
    "## Process MODIS Data\n",
    "\n",
    "In the cell or cells below open and process your MODIS data using loops and string manipulation \n",
    "of paths. \n",
    "\n",
    "Use the function `stack_modis_bands()` that you wrote above to open and crop the MODIS data for before and after the fire.\n",
    "\n"
   ]
  },
  {
   "cell_type": "code",
   "execution_count": null,
   "metadata": {
    "deletable": false,
    "nbgrader": {
     "cell_type": "code",
     "checksum": "a4d206f6882cf7baa2a5262c27676356",
     "grade": false,
     "grade_id": "cell-244689f994e59daa",
     "locked": false,
     "schema_version": 3,
     "solution": true,
     "task": false
    }
   },
   "outputs": [],
   "source": [
    "# YOUR CODE HERE\n",
    "raise NotImplementedError()"
   ]
  },
  {
   "cell_type": "code",
   "execution_count": null,
   "metadata": {
    "deletable": false,
    "editable": false,
    "nbgrader": {
     "cell_type": "code",
     "checksum": "d49ebc6ac3aa8c9847afcab6ac569bf9",
     "grade": true,
     "grade_id": "cell-41e97b2dd5a5c5d5",
     "locked": true,
     "points": 5,
     "schema_version": 3,
     "solution": false,
     "task": false
    }
   },
   "outputs": [],
   "source": [
    "# BEGIN HIDDEN TEST\n",
    "\n",
    "# Test their modis function works as expected\n",
    "# We may need to add more specifics about how to create it\n",
    "\n",
    "modis_path_dirs = glob(os.path.join(\"cold-springs-modis-h5\") + \"/*/\")\n",
    "\n",
    "modis_dict = {}\n",
    "modis_veg_index = {}\n",
    "points = 0\n",
    "for adir in modis_path_dirs:\n",
    "\n",
    "    # Get date for data\n",
    "    modis_date = os.path.basename(os.path.normpath(adir))\n",
    "    modis_h4_path = glob(os.path.join(adir, \"*.hdf\"))[0]\n",
    "    try:\n",
    "        modis_arr, modis_meta = stack_modis_bands(modis_h4_path,\n",
    "                                                  fire_boundary)\n",
    "        if (type(modis_arr) == np.ndarray):\n",
    "            points += 3\n",
    "            print(\"Excellent, the first object returned from your stack_modis_bands function is a numpy array.\")\n",
    "    except:\n",
    "        print(\"Oops looks like your function doesn't work as expected\")\n",
    "\n",
    "points\n",
    "# END HIDDEN TEST"
   ]
  },
  {
   "cell_type": "markdown",
   "metadata": {
    "deletable": false,
    "editable": false,
    "nbgrader": {
     "cell_type": "markdown",
     "checksum": "aa1dc5488cea7ffcdf820990afe1067b",
     "grade": false,
     "grade_id": "cell-4c085d457c3cdbb5",
     "locked": true,
     "schema_version": 3,
     "solution": false,
     "task": false
    }
   },
   "source": [
    "## NAIP Data\n",
    "In the cell below open and crop your NAIP data"
   ]
  },
  {
   "cell_type": "code",
   "execution_count": null,
   "metadata": {
    "deletable": false,
    "nbgrader": {
     "cell_type": "code",
     "checksum": "8ec227f4835cc04e4d0c2d367088c9aa",
     "grade": false,
     "grade_id": "cell-8c391e31f8b2843f",
     "locked": false,
     "schema_version": 3,
     "solution": true,
     "task": false
    }
   },
   "outputs": [],
   "source": [
    "# YOUR CODE HERE\n",
    "raise NotImplementedError()"
   ]
  },
  {
   "cell_type": "markdown",
   "metadata": {
    "deletable": false,
    "editable": false,
    "nbgrader": {
     "cell_type": "markdown",
     "checksum": "ca8f56767ff74346a9b7f818bd5ee57a",
     "grade": false,
     "grade_id": "cell-fdb313a690f2d6df6",
     "locked": true,
     "schema_version": 3,
     "solution": false,
     "task": false
    }
   },
   "source": [
    "![Colored Bar](colored-bar.png)"
   ]
  },
  {
   "cell_type": "markdown",
   "metadata": {
    "deletable": false,
    "editable": false,
    "hideCode": false,
    "hidePrompt": false,
    "nbgrader": {
     "cell_type": "markdown",
     "checksum": "031c5c0ae341d38789b19acf550d37e7",
     "grade": false,
     "grade_id": "cell-6ca04a45ff093c62",
     "locked": true,
     "schema_version": 3,
     "solution": false,
     "task": false
    }
   },
   "source": [
    "## Figure 1: Plot CIR Images for NAIP, Landsat and MODIS Using Post Fire Data\n",
    "\n",
    "In the cell below, create a figure with 3 subplots stacked vertically.\n",
    "Plot NAIP, Landsat and MODIS post-fire data on the first, second and third axes of this figure."
   ]
  },
  {
   "cell_type": "code",
   "execution_count": null,
   "metadata": {
    "deletable": false,
    "hideCode": false,
    "hidePrompt": false,
    "nbgrader": {
     "cell_type": "code",
     "checksum": "6cb295c3594ca9ae1bd7a53c915897f2",
     "grade": false,
     "grade_id": "cell-4feb05c88bb2f0d7",
     "locked": false,
     "schema_version": 3,
     "solution": true,
     "task": false
    }
   },
   "outputs": [],
   "source": [
    "# Plot Post Fire NAIP, Landsat & MODIS together in one Figure\n",
    "\n",
    "# YOUR CODE HERE\n",
    "raise NotImplementedError()\n",
    "### DO NOT REMOVE LINE BELOW ###\n",
    "plot01_CIR_res_comparison = nb.convert_axes(plt, which_axes=\"all\")"
   ]
  },
  {
   "cell_type": "code",
   "execution_count": null,
   "metadata": {
    "deletable": false,
    "editable": false,
    "nbgrader": {
     "cell_type": "code",
     "checksum": "c80ba253a70d268953d166965ebb1951",
     "grade": true,
     "grade_id": "cell-3c3e6bc76ded28b5",
     "locked": true,
     "points": 15,
     "schema_version": 3,
     "solution": false,
     "task": false
    }
   },
   "outputs": [],
   "source": []
  },
  {
   "cell_type": "code",
   "execution_count": null,
   "metadata": {
    "deletable": false,
    "editable": false,
    "nbgrader": {
     "cell_type": "code",
     "checksum": "30ee4850f6595d5f6d0223bf37b6095d",
     "grade": true,
     "grade_id": "cell-0259f2c506f88113",
     "locked": true,
     "points": 15,
     "schema_version": 3,
     "solution": false,
     "task": false
    }
   },
   "outputs": [],
   "source": []
  },
  {
   "cell_type": "code",
   "execution_count": null,
   "metadata": {
    "deletable": false,
    "editable": false,
    "nbgrader": {
     "cell_type": "code",
     "checksum": "00445e70d060657e1d6ccc47be588b2b",
     "grade": true,
     "grade_id": "cell-158bfb775a0eddae",
     "locked": true,
     "points": 15,
     "schema_version": 3,
     "solution": false,
     "task": false
    }
   },
   "outputs": [],
   "source": []
  },
  {
   "cell_type": "markdown",
   "metadata": {
    "deletable": false,
    "editable": false,
    "nbgrader": {
     "cell_type": "markdown",
     "checksum": "ec9bf392d668baef3c49fc5000f43cb6",
     "grade": false,
     "grade_id": "cell-802d899b1c54f069",
     "locked": true,
     "schema_version": 3,
     "solution": false,
     "task": false
    }
   },
   "source": [
    "# Figure 2: Landsat and MODIS NDVI Difference \n",
    "\n",
    "Create a map of the NDVI difference before and after the Cold Springs Fire. To do this, \n",
    "you will need to download cloud free Landsat data from before the Cold Springs fire and crop it \n",
    "to the fire extent. Make sure you overlay the fire extent `vector_layers/fire-boundary-geomac/co_cold_springs_20160711_2200_dd83.shp` on top of the NDVI Difference map. \n",
    "\n",
    "Be sure to use cloud free data.\n",
    "\n",
    "Create the same NDVI Difference map using MODIS data before and\n",
    "after the Cold Springs fire. Overlay the fire extent `vector_layers/fire-boundary-geomac/co_cold_springs_20160711_2200_dd83.shp` on top of the NDVI Difference map. \n",
    "\n",
    "### Landsat Data\n",
    "Use cloud free data that you downloaded for pre fire Landsat calculations. Make sure \n",
    "that all the Landsat data is cropped to the fire boundary extent before you perform\n",
    "any calculations on it.\n",
    "\n",
    "### MODIS Data\n",
    "\n",
    "Crop the MODIS data to the fire boundary extent.\n",
    "\n",
    "### NDVI Differencing\n",
    "\n",
    "To get a map of the NDVI Difference from before and after the fire, you must first create NDVI \n",
    "rasters of the study area before and after the fire. Once you have those arrays, to get the \n",
    "Difference subtract the pre-fire array from the post-fire array. The resulting array will \n",
    "show you change in the area's NDVI from the first image to the second image. The operation\n",
    "itself looks like this: `ndvi_difference = post_fire_ndvi - pre_fire_ndvi`.\n",
    "****\n",
    "\n",
    "HINT: Remember, you can use `es.normalized_diff(band1, band2)` to get the NDVI of an image. "
   ]
  },
  {
   "cell_type": "code",
   "execution_count": null,
   "metadata": {
    "deletable": false,
    "nbgrader": {
     "cell_type": "code",
     "checksum": "3a88c7fc95909a771b3db99a645bb76d",
     "grade": false,
     "grade_id": "cell-04c708968d254a97",
     "locked": false,
     "schema_version": 3,
     "solution": true,
     "task": false
    }
   },
   "outputs": [],
   "source": [
    "# Difference NDVI before and after the fire Landsat and MODIS\n",
    "\n",
    "\n",
    "# YOUR CODE HERE\n",
    "raise NotImplementedError()\n",
    "\n",
    "### DO NOT REMOVE LINE BELOW ###\n",
    "plot02_landsat_modis_ndvi_diff = nb.convert_axes(plt, which_axes=\"all\")"
   ]
  },
  {
   "cell_type": "code",
   "execution_count": null,
   "metadata": {
    "deletable": false,
    "editable": false,
    "nbgrader": {
     "cell_type": "code",
     "checksum": "cbd0ead5c902e348ed1002ed8ace970f",
     "grade": true,
     "grade_id": "cell-9b92af5e76ecf4b8",
     "locked": true,
     "points": 25,
     "schema_version": 3,
     "solution": false,
     "task": false
    }
   },
   "outputs": [],
   "source": [
    "# add tests here\n"
   ]
  },
  {
   "cell_type": "code",
   "execution_count": null,
   "metadata": {
    "deletable": false,
    "editable": false,
    "nbgrader": {
     "cell_type": "code",
     "checksum": "aee00f3f3e52d115ad737a5996d094d9",
     "grade": true,
     "grade_id": "cell-88f2a83e96215ddb",
     "locked": true,
     "points": 25,
     "schema_version": 3,
     "solution": false,
     "task": false
    }
   },
   "outputs": [],
   "source": []
  },
  {
   "cell_type": "markdown",
   "metadata": {
    "deletable": false,
    "editable": false,
    "nbgrader": {
     "cell_type": "markdown",
     "checksum": "b3bb73ffc4c4f71d8447b659762d60fb",
     "grade": false,
     "grade_id": "cell-fdb313a690f2d6df34",
     "locked": true,
     "schema_version": 3,
     "solution": false,
     "task": false
    }
   },
   "source": [
    "![Colored Bar](colored-bar.png)"
   ]
  },
  {
   "cell_type": "markdown",
   "metadata": {
    "deletable": false,
    "editable": false,
    "nbgrader": {
     "cell_type": "markdown",
     "checksum": "8c8ba4650ccb1ca2bf4a91c6e9f61f1c",
     "grade": false,
     "grade_id": "cell-0c6f881253c837c1",
     "locked": true,
     "schema_version": 3,
     "solution": false,
     "task": false
    }
   },
   "source": [
    "## Figure 3: Difference NBR (dNBR) Using Landsat  & MODIS Data\n",
    "\n",
    "Create a map of the classified dNBR using Landsat data collected before and\n",
    "after the Cold Springs fire. Overlay the fire extent `vector_layers/fire-boundary-geomac/co_cold_springs_20160711_2200_dd83.shp`\n",
    "on top of the dNBR map. \n",
    "\n",
    "Create the same classified dNBR map using MODIS data before and\n",
    "after the Cold Springs fire. Overlay the fire extent `vector_layers/fire-boundary-geomac/co_cold_springs_20160711_2200_dd83.shp`\n",
    "on top of the dNBR map. \n",
    "\n",
    "\n",
    "Add one legend for both plots that clearly describes each burn \"class\"\n",
    "that you applied using the table provided in the lessons. The classes will be the same values as it is an index.\n",
    "\n",
    "\n",
    "#### dNBR burn classes\n",
    "\n",
    "The burn classes that you should use to classify the data are below:\n",
    "\n",
    "\n",
    "Note that depending on how you scaled your data, you may need to scale the\n",
    "values below by a factor of 10.\n",
    "\n",
    "| SEVERITY LEVEL  | dNBR RANGE |\n",
    "|-----------------|-------------|\n",
    "| Enhanced Regrowth | < -.1 |\n",
    "| Unburned       | -.1 to +.1 |\n",
    "| Low Severity     | +.1 to +.27 |\n",
    "| Moderate Severity  | +.27 to +.66 |\n",
    "| High Severity   | > .66 |\n",
    "\n",
    "****\n",
    "\n",
    "\n",
    "HINT: Your dNBR classification list should look like this:\n",
    "`[-np.inf, -.1, .1, .27, .66, np.inf]`\n",
    "\n",
    "HINT 2: If you want to use them, these are the colors used in the maps on the website:\n",
    "\n",
    "`[\"g\", \"yellowgreen\", \"peachpuff\", \"coral\", \"maroon\"]`\n",
    "\n",
    "The code to create a custom colormap for the plot is below:\n",
    "\n",
    "```\n",
    "nbr_colors = [\"g\", \"yellowgreen\", \"peachpuff\", \"coral\", \"maroon\"]\n",
    "nbr_cmap = ListedColormap(nbr_colors)\n",
    "```"
   ]
  },
  {
   "cell_type": "markdown",
   "metadata": {
    "deletable": false,
    "editable": false,
    "nbgrader": {
     "cell_type": "markdown",
     "checksum": "d95a93b0fc07400b3fd4bd1756dd81f3",
     "grade": false,
     "grade_id": "cell-52acefcfec83b4a4",
     "locked": true,
     "schema_version": 3,
     "solution": false,
     "task": false
    }
   },
   "source": [
    "## Create NBR Bins Object \n",
    "\n",
    "In the cell below create the object that you will use to define bins \n",
    "to classify both Landsat and MODIS data. Name your object:\n",
    "\n",
    "`dnbr_class_bins`"
   ]
  },
  {
   "cell_type": "code",
   "execution_count": null,
   "metadata": {
    "deletable": false,
    "nbgrader": {
     "cell_type": "code",
     "checksum": "11fa75ac071b207822f1825ac4507bd2",
     "grade": false,
     "grade_id": "cell-bd60016448bbe655",
     "locked": false,
     "schema_version": 3,
     "solution": true,
     "task": false
    }
   },
   "outputs": [],
   "source": [
    "# YOUR CODE HERE\n",
    "raise NotImplementedError()"
   ]
  },
  {
   "cell_type": "code",
   "execution_count": null,
   "metadata": {
    "deletable": false,
    "editable": false,
    "nbgrader": {
     "cell_type": "code",
     "checksum": "0c5b00baf9b24ae5bb1e3583a13e3117",
     "grade": true,
     "grade_id": "cell-f555d110a2c0ba38",
     "locked": true,
     "points": 5,
     "schema_version": 3,
     "solution": false,
     "task": false
    }
   },
   "outputs": [],
   "source": [
    "# Here add a tests to ensure\n",
    "# 1. dnbr class bins is a list and\n",
    "# 2. is has the correct values - i suggest just testing that the 2nd value is\n",
    "# -1 and the 4th is .66\n",
    "# the tests can be worth 5 points total\n",
    "\n",
    "# Here are some sanity checks that you set up your dnbr_class_bins correctly\n",
    "# The first test ensures that the data type is correct, i.e., that dnbr_class_bins\n",
    "# is a list. The second test checks two of the values in the list to make sure that\n",
    "# the correct values are in the correct order in the list.\n",
    "\n",
    "# These tests ARE graded, so make sure you're passing both of the tests before you move on!\n",
    "\n",
    "### DO NOT REMOVE CODE BELOW ###\n",
    "\n",
    "points = 0\n",
    "try:\n",
    "    assert(isinstance(dnbr_class_bins, list))\n",
    "    points += 2\n",
    "    print(\"dnbr_class_bins is a list!\")\n",
    "except AssertionError:\n",
    "    print(\"dnbr_class_bins should be a list.\")\n",
    "\n",
    "try:\n",
    "    assert(dnbr_class_bins[1] == -.1 and dnbr_class_bins[4] == .66)\n",
    "    points += 3\n",
    "    print(\"dnbr_class_bins has the correct values!\")\n",
    "except AssertionError:\n",
    "    print(\"dnbr_class_bins does not have the correct values.\")\n",
    "\n",
    "points"
   ]
  },
  {
   "cell_type": "code",
   "execution_count": null,
   "metadata": {
    "deletable": false,
    "hideCode": false,
    "hidePrompt": false,
    "nbgrader": {
     "cell_type": "code",
     "checksum": "b5dfbf34f41ffe127d60ed6adb882f78",
     "grade": false,
     "grade_id": "cell-296ed0f3c3b010fd",
     "locked": false,
     "schema_version": 3,
     "solution": true,
     "task": false
    },
    "tags": [
     "hide"
    ]
   },
   "outputs": [],
   "source": [
    "# Calculate dNBR for Landsat - be sure to use the correct bands!\n",
    "\n",
    "# YOUR CODE HERE\n",
    "raise NotImplementedError()"
   ]
  },
  {
   "cell_type": "code",
   "execution_count": null,
   "metadata": {
    "deletable": false,
    "hideCode": false,
    "hidePrompt": false,
    "nbgrader": {
     "cell_type": "code",
     "checksum": "553624a1546f71ae159fc1da674aa9da",
     "grade": false,
     "grade_id": "cell-9cf18a3835896598",
     "locked": false,
     "schema_version": 3,
     "solution": true,
     "task": false
    },
    "tags": [
     "hide"
    ]
   },
   "outputs": [],
   "source": [
    "# Calculate MODIS dNBR\n",
    "\n",
    "# YOUR CODE HERE\n",
    "raise NotImplementedError()"
   ]
  },
  {
   "cell_type": "markdown",
   "metadata": {
    "deletable": false,
    "editable": false,
    "nbgrader": {
     "cell_type": "markdown",
     "checksum": "6375b916897ae1a8a3c80163d8bd2bde",
     "grade": false,
     "grade_id": "cell-fdb313a690f2d6df1",
     "locked": true,
     "schema_version": 3,
     "solution": false,
     "task": false
    }
   },
   "source": [
    "![Colored Bar](colored-bar.png)"
   ]
  },
  {
   "cell_type": "markdown",
   "metadata": {
    "deletable": false,
    "editable": false,
    "hideCode": false,
    "hidePrompt": false,
    "nbgrader": {
     "cell_type": "markdown",
     "checksum": "64de2773dbef147c0495debb81579313",
     "grade": false,
     "grade_id": "cell-6c06c527dbc39fbc",
     "locked": true,
     "schema_version": 3,
     "solution": false,
     "task": false
    }
   },
   "source": [
    "## Homework Figure 3: Plots of Landsat & MODIS Difference Normalized Burn Ratio  dNBR\n",
    "\n",
    "When you plot your MODIS data, you may notice that the data does not contain all of the classes that Landsat contains which could range from 1-5. To ensure that your colormap plots properly, set the vmin and vmax parameters to 1 and 5 respectively when you call `ep.plot_bands()`.\n",
    "\n",
    "`vmin=1, vmax=5`\n",
    "\n",
    "### Plot Legend\n",
    "\n",
    "You only need one legend for this figure. The es draw_legend function will create a legend of \"boxes\" if you provide it with an \n",
    "\n",
    "1. `imshow()` image object\n",
    "2. classes : a list of numbers that represent the classes in your numpy array\n",
    "3. titles: a list of class names example: `[\"High Severity\", \"Low Severity\"]`"
   ]
  },
  {
   "cell_type": "code",
   "execution_count": null,
   "metadata": {
    "deletable": false,
    "nbgrader": {
     "cell_type": "code",
     "checksum": "49c91b5c7338a9b0b539045a8d9fae53",
     "grade": false,
     "grade_id": "cell-1b1b71c7a1d9c6e6",
     "locked": false,
     "schema_version": 3,
     "solution": true,
     "task": false
    },
    "tags": [
     "hide"
    ]
   },
   "outputs": [],
   "source": [
    "# Plot dNBR using Landsat\n",
    "\n",
    "# YOUR CODE HERE\n",
    "raise NotImplementedError()\n",
    "### DO NOT REMOVE LINE BELOW ###\n",
    "plot03_landsat_dnbr = nb.convert_axes(plt, which_axes=\"all\")"
   ]
  },
  {
   "cell_type": "code",
   "execution_count": null,
   "metadata": {
    "deletable": false,
    "editable": false,
    "nbgrader": {
     "cell_type": "code",
     "checksum": "ef580e0c65d3f868a355c78b630065b0",
     "grade": true,
     "grade_id": "cell-39ad421822088e36",
     "locked": true,
     "points": 25,
     "schema_version": 3,
     "solution": false,
     "task": false
    }
   },
   "outputs": [],
   "source": []
  },
  {
   "cell_type": "code",
   "execution_count": null,
   "metadata": {
    "deletable": false,
    "editable": false,
    "nbgrader": {
     "cell_type": "code",
     "checksum": "0949dda370ca4165f641b956da5f6018",
     "grade": true,
     "grade_id": "cell-bf37c466c5974606",
     "locked": true,
     "points": 25,
     "schema_version": 3,
     "solution": false,
     "task": false
    }
   },
   "outputs": [],
   "source": []
  },
  {
   "cell_type": "markdown",
   "metadata": {
    "deletable": false,
    "editable": false,
    "nbgrader": {
     "cell_type": "markdown",
     "checksum": "770e92ae1d7e02885bbbbbdbcea018ee",
     "grade": false,
     "grade_id": "cell-fdb313a690f2d6df",
     "locked": true,
     "schema_version": 3,
     "solution": false,
     "task": false
    }
   },
   "source": [
    "![Colored Bar](colored-bar.png)"
   ]
  },
  {
   "cell_type": "markdown",
   "metadata": {
    "deletable": false,
    "editable": false,
    "nbgrader": {
     "cell_type": "markdown",
     "checksum": "f0d79d89732f2026806447177b0e1101",
     "grade": false,
     "grade_id": "cell-36a8da41cd9c3ca1",
     "locked": true,
     "schema_version": 3,
     "solution": false,
     "task": false
    }
   },
   "source": [
    "# Landsat vs MODIS  Burned Area\n",
    "\n",
    "Below, print the total area burned in classes 4 and 5 (moderate to high severity) for both datasets.\n",
    "\n",
    "HINT: Feel free to experiment with loops to complete this part of the homework. \n"
   ]
  },
  {
   "cell_type": "code",
   "execution_count": null,
   "metadata": {
    "deletable": false,
    "hideCode": false,
    "hidePrompt": false,
    "nbgrader": {
     "cell_type": "code",
     "checksum": "73ade70cf68a50ff32518edce1d09c7a",
     "grade": false,
     "grade_id": "cell-e8ccdd40f3954765",
     "locked": false,
     "schema_version": 3,
     "solution": true,
     "task": false
    }
   },
   "outputs": [],
   "source": [
    "# YOUR CODE HERE\n",
    "raise NotImplementedError()"
   ]
  },
  {
   "cell_type": "code",
   "execution_count": null,
   "metadata": {},
   "outputs": [],
   "source": []
  }
 ],
 "metadata": {
  "hide_code_all_hidden": false,
  "kernelspec": {
   "display_name": "Python 3",
   "language": "python",
   "name": "python3"
  },
  "language_info": {
   "codemirror_mode": {
    "name": "ipython",
    "version": 3
   },
   "file_extension": ".py",
   "mimetype": "text/x-python",
   "name": "python",
   "nbconvert_exporter": "python",
   "pygments_lexer": "ipython3",
   "version": "3.7.6"
  },
  "toc": {
   "base_numbering": 1,
   "nav_menu": {},
   "number_sections": true,
   "sideBar": true,
   "skip_h1_title": false,
   "title_cell": "Table of Contents",
   "title_sidebar": "Contents",
   "toc_cell": false,
   "toc_position": {
    "height": "calc(100% - 180px)",
    "left": "10px",
    "top": "150px",
    "width": "330.433px"
   },
   "toc_section_display": true,
   "toc_window_display": true
  }
 },
 "nbformat": 4,
 "nbformat_minor": 2
}
